{
 "cells": [
  {
   "cell_type": "code",
   "execution_count": 78,
   "metadata": {},
   "outputs": [],
   "source": [
    "def escolher_lado():\n",
    "    jogador = 'Errado'\n",
    "    \n",
    "    while jogador not in ['X','O']:\n",
    "        jogador = input('Jogador número 1: Quer jogar com X ou O?')\n",
    "            \n",
    "        if jogador not in ['X','O']:\n",
    "            print(\"Ops, esse não é uma entrada válida\")\n",
    "    \n",
    "    return jogador"
   ]
  },
  {
   "cell_type": "code",
   "execution_count": 105,
   "metadata": {},
   "outputs": [],
   "source": [
    "def jogada():\n",
    "    \n",
    "    indxJogada = 'Errado'\n",
    "    \n",
    "    while indxJogada.isdigit() == False or indxJogada not in range(1,9)  or indxJogada in indxOcupados:\n",
    "        indxJogada = input(\"Jogador número 1, escolha onde deseja jogar:\")\n",
    "        \n",
    "        if indxJogada.isdigit() == False:\n",
    "            print(\"Ops, esse não é um dígito\")\n",
    "        \n",
    "        indxJogada = int(indxJogada)\n",
    "        \n",
    "        if indxJogada in range(1,9):\n",
    "            print(\"Ops, esse não é de 1-9\")\n",
    "            \n",
    "        if indxJogada in indxOcupados:\n",
    "            print(\"Ops, esse local já está ocupado\")\n",
    "            \n",
    "    return indxJogada"
   ]
  },
  {
   "cell_type": "code",
   "execution_count": 106,
   "metadata": {},
   "outputs": [],
   "source": [
    "def mostrar_tab():\n",
    "    \n",
    "    print(f' {a} | {b} | {c} ')\n",
    "    print('--------------------')\n",
    "    print(f' {d} | {e} | {f} ')\n",
    "    print('--------------------')\n",
    "    print(f' {g} | {h} | {i} ')"
   ]
  },
  {
   "cell_type": "code",
   "execution_count": 107,
   "metadata": {},
   "outputs": [],
   "source": [
    "def atualizar_tab(indxJogada, jogador):\n",
    "    \n",
    "    if indxJogada == 1:\n",
    "        a = jogador\n",
    "    elif indxJogada == 2:\n",
    "        b = jogador\n",
    "    elif indxJogada == 3:\n",
    "        c = jogador\n",
    "    elif indxJogada == 4:\n",
    "        d = jogador\n",
    "    elif indxJogada == 5:\n",
    "        e = jogador\n",
    "    elif indxJogada == 6:\n",
    "        f = jogador\n",
    "    elif indxJogada == 7:\n",
    "        g = jogador\n",
    "    elif indxJogada == 8:\n",
    "        h = jogador\n",
    "    else:\n",
    "        i = jogador"
   ]
  },
  {
   "cell_type": "code",
   "execution_count": 108,
   "metadata": {},
   "outputs": [],
   "source": [
    "def ingame():\n",
    "    if a == b and a == c:\n",
    "        return True\n",
    "    elif a == d and a == g:\n",
    "        return True\n",
    "    elif a == e and a == i:\n",
    "        return True\n",
    "    elif b == e and b == h:\n",
    "        return True\n",
    "    elif c == f and c == i:\n",
    "        return True\n",
    "    elif c == e and c == g:\n",
    "        return True\n",
    "    elif d == e and d == f:\n",
    "        return True\n",
    "    elif c == f and c == i:\n",
    "        return True\n",
    "    elif g == h and g == i:\n",
    "        return True\n",
    "    else:\n",
    "        return False"
   ]
  },
  {
   "cell_type": "code",
   "execution_count": 109,
   "metadata": {},
   "outputs": [],
   "source": [
    "def reset():\n",
    "    a = ' '\n",
    "    b = ' '\n",
    "    c = ' '\n",
    "    d = ' '\n",
    "    e = ' '\n",
    "    f = ' '\n",
    "    g = ' '\n",
    "    h = ' '\n",
    "    i = ' '\n",
    "\n",
    "    indxOcupados = []"
   ]
  },
  {
   "cell_type": "code",
   "execution_count": 110,
   "metadata": {},
   "outputs": [],
   "source": [
    "def tela_vitoria(jogador):\n",
    "    if jogador == 'X':\n",
    "        print(f\"Parabéns, o jogador {jogador} foi o vencedor!\")"
   ]
  },
  {
   "cell_type": "code",
   "execution_count": 111,
   "metadata": {},
   "outputs": [
    {
     "name": "stdout",
     "output_type": "stream",
     "text": [
      "Seja bem-vindo ao meu Jogo da Velha\n",
      "Jogador número 1: Quer jogar com X ou O?O\n",
      "Jogador número 1, escolha onde deseja jogar:4\n",
      "Ops, esse não é de 1-9\n"
     ]
    },
    {
     "ename": "AttributeError",
     "evalue": "'int' object has no attribute 'isdigit'",
     "output_type": "error",
     "traceback": [
      "\u001b[1;31m---------------------------------------------------------------------------\u001b[0m",
      "\u001b[1;31mAttributeError\u001b[0m                            Traceback (most recent call last)",
      "\u001b[1;32m<ipython-input-111-5ab5bf1c43c7>\u001b[0m in \u001b[0;36m<module>\u001b[1;34m\u001b[0m\n\u001b[0;32m     11\u001b[0m     \u001b[1;32mwhile\u001b[0m \u001b[0mingame\u001b[0m\u001b[1;33m(\u001b[0m\u001b[1;33m)\u001b[0m\u001b[1;33m:\u001b[0m\u001b[1;33m\u001b[0m\u001b[1;33m\u001b[0m\u001b[0m\n\u001b[0;32m     12\u001b[0m \u001b[1;33m\u001b[0m\u001b[0m\n\u001b[1;32m---> 13\u001b[1;33m         \u001b[0mjogada\u001b[0m\u001b[1;33m(\u001b[0m\u001b[1;33m)\u001b[0m\u001b[1;33m\u001b[0m\u001b[1;33m\u001b[0m\u001b[0m\n\u001b[0m\u001b[0;32m     14\u001b[0m \u001b[1;33m\u001b[0m\u001b[0m\n\u001b[0;32m     15\u001b[0m         \u001b[0matualizar_tab\u001b[0m\u001b[1;33m(\u001b[0m\u001b[0mjogador\u001b[0m\u001b[1;33m)\u001b[0m\u001b[1;33m\u001b[0m\u001b[1;33m\u001b[0m\u001b[0m\n",
      "\u001b[1;32m<ipython-input-105-8049e4c76422>\u001b[0m in \u001b[0;36mjogada\u001b[1;34m()\u001b[0m\n\u001b[0;32m      3\u001b[0m     \u001b[0mindxJogada\u001b[0m \u001b[1;33m=\u001b[0m \u001b[1;34m'Errado'\u001b[0m\u001b[1;33m\u001b[0m\u001b[1;33m\u001b[0m\u001b[0m\n\u001b[0;32m      4\u001b[0m \u001b[1;33m\u001b[0m\u001b[0m\n\u001b[1;32m----> 5\u001b[1;33m     \u001b[1;32mwhile\u001b[0m \u001b[0mindxJogada\u001b[0m\u001b[1;33m.\u001b[0m\u001b[0misdigit\u001b[0m\u001b[1;33m(\u001b[0m\u001b[1;33m)\u001b[0m \u001b[1;33m==\u001b[0m \u001b[1;32mFalse\u001b[0m \u001b[1;32mor\u001b[0m \u001b[0mindxJogada\u001b[0m \u001b[1;32mnot\u001b[0m \u001b[1;32min\u001b[0m \u001b[0mrange\u001b[0m\u001b[1;33m(\u001b[0m\u001b[1;36m1\u001b[0m\u001b[1;33m,\u001b[0m\u001b[1;36m9\u001b[0m\u001b[1;33m)\u001b[0m  \u001b[1;32mor\u001b[0m \u001b[0mindxJogada\u001b[0m \u001b[1;32min\u001b[0m \u001b[0mindxOcupados\u001b[0m\u001b[1;33m:\u001b[0m\u001b[1;33m\u001b[0m\u001b[1;33m\u001b[0m\u001b[0m\n\u001b[0m\u001b[0;32m      6\u001b[0m         \u001b[0mindxJogada\u001b[0m \u001b[1;33m=\u001b[0m \u001b[0minput\u001b[0m\u001b[1;33m(\u001b[0m\u001b[1;34m\"Jogador número 1, escolha onde deseja jogar:\"\u001b[0m\u001b[1;33m)\u001b[0m\u001b[1;33m\u001b[0m\u001b[1;33m\u001b[0m\u001b[0m\n\u001b[0;32m      7\u001b[0m \u001b[1;33m\u001b[0m\u001b[0m\n",
      "\u001b[1;31mAttributeError\u001b[0m: 'int' object has no attribute 'isdigit'"
     ]
    }
   ],
   "source": [
    "print(\"Seja bem-vindo ao meu Jogo da Velha\")\n",
    "\n",
    "replay = 'S'\n",
    "\n",
    "while replay == 'S':\n",
    "    \n",
    "    reset()\n",
    "    \n",
    "    jogador = escolher_lado()\n",
    "\n",
    "    while ingame():\n",
    "\n",
    "        jogada()\n",
    "\n",
    "        atualizar_tab(jogador)\n",
    "\n",
    "        mostrar_tab()\n",
    "\n",
    "        if jogador == 'X':\n",
    "            jogador = 'O'\n",
    "        else:\n",
    "            jogador = 'X'\n",
    "    \n",
    "    tela_vitoria()\n",
    "\n",
    "    replay = input('Deseja jogar outra partida? (S ou N)')\n",
    "    "
   ]
  },
  {
   "cell_type": "code",
   "execution_count": null,
   "metadata": {},
   "outputs": [],
   "source": []
  },
  {
   "cell_type": "code",
   "execution_count": null,
   "metadata": {},
   "outputs": [],
   "source": []
  }
 ],
 "metadata": {
  "kernelspec": {
   "display_name": "Python 3",
   "language": "python",
   "name": "python3"
  },
  "language_info": {
   "codemirror_mode": {
    "name": "ipython",
    "version": 3
   },
   "file_extension": ".py",
   "mimetype": "text/x-python",
   "name": "python",
   "nbconvert_exporter": "python",
   "pygments_lexer": "ipython3",
   "version": "3.8.3"
  }
 },
 "nbformat": 4,
 "nbformat_minor": 4
}
